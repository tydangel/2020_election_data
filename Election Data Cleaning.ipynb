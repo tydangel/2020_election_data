{
 "cells": [
  {
   "cell_type": "markdown",
   "metadata": {},
   "source": [
    "# Cleaning Election Data for Tableau Dashboard\n",
    "\n",
    "This notebook contains the script used to clean the dataset of election results for the 2020 U.S. Presidential Election.\n",
    "\n",
    "The original dataset from Reuters and posted to Kaggle by Raphael Fontes can be found [here](https://www.kaggle.com/unanimad/us-election-2020?select=president_county_candidate.csv).\n",
    "\n",
    "The Tableau dashboard created with this data can also be found [here](https://public.tableau.com/profile/tyler.dangel#!/vizhome/ElectionData_16091568606920/ElectionData)"
   ]
  },
  {
   "cell_type": "code",
   "execution_count": 1,
   "metadata": {},
   "outputs": [],
   "source": [
    "#Import necessary packages\n",
    "import pandas as pd\n",
    "import numpy as np\n",
    "\n",
    "#Read in .csv file\n",
    "df = pd.read_csv(\"president_county_candidate.csv\")"
   ]
  },
  {
   "cell_type": "code",
   "execution_count": 2,
   "metadata": {},
   "outputs": [
    {
     "data": {
      "text/html": [
       "<div>\n",
       "<style scoped>\n",
       "    .dataframe tbody tr th:only-of-type {\n",
       "        vertical-align: middle;\n",
       "    }\n",
       "\n",
       "    .dataframe tbody tr th {\n",
       "        vertical-align: top;\n",
       "    }\n",
       "\n",
       "    .dataframe thead th {\n",
       "        text-align: right;\n",
       "    }\n",
       "</style>\n",
       "<table border=\"1\" class=\"dataframe\">\n",
       "  <thead>\n",
       "    <tr style=\"text-align: right;\">\n",
       "      <th></th>\n",
       "      <th>state</th>\n",
       "      <th>county</th>\n",
       "      <th>candidate</th>\n",
       "      <th>party</th>\n",
       "      <th>total_votes</th>\n",
       "      <th>won</th>\n",
       "    </tr>\n",
       "  </thead>\n",
       "  <tbody>\n",
       "    <tr>\n",
       "      <th>0</th>\n",
       "      <td>Delaware</td>\n",
       "      <td>Kent County</td>\n",
       "      <td>Joe Biden</td>\n",
       "      <td>DEM</td>\n",
       "      <td>44552</td>\n",
       "      <td>True</td>\n",
       "    </tr>\n",
       "    <tr>\n",
       "      <th>1</th>\n",
       "      <td>Delaware</td>\n",
       "      <td>Kent County</td>\n",
       "      <td>Donald Trump</td>\n",
       "      <td>REP</td>\n",
       "      <td>41009</td>\n",
       "      <td>False</td>\n",
       "    </tr>\n",
       "    <tr>\n",
       "      <th>2</th>\n",
       "      <td>Delaware</td>\n",
       "      <td>Kent County</td>\n",
       "      <td>Jo Jorgensen</td>\n",
       "      <td>LIB</td>\n",
       "      <td>1044</td>\n",
       "      <td>False</td>\n",
       "    </tr>\n",
       "    <tr>\n",
       "      <th>3</th>\n",
       "      <td>Delaware</td>\n",
       "      <td>Kent County</td>\n",
       "      <td>Howie Hawkins</td>\n",
       "      <td>GRN</td>\n",
       "      <td>420</td>\n",
       "      <td>False</td>\n",
       "    </tr>\n",
       "    <tr>\n",
       "      <th>4</th>\n",
       "      <td>Delaware</td>\n",
       "      <td>New Castle County</td>\n",
       "      <td>Joe Biden</td>\n",
       "      <td>DEM</td>\n",
       "      <td>195034</td>\n",
       "      <td>True</td>\n",
       "    </tr>\n",
       "  </tbody>\n",
       "</table>\n",
       "</div>"
      ],
      "text/plain": [
       "      state             county      candidate party  total_votes    won\n",
       "0  Delaware        Kent County      Joe Biden   DEM        44552   True\n",
       "1  Delaware        Kent County   Donald Trump   REP        41009  False\n",
       "2  Delaware        Kent County   Jo Jorgensen   LIB         1044  False\n",
       "3  Delaware        Kent County  Howie Hawkins   GRN          420  False\n",
       "4  Delaware  New Castle County      Joe Biden   DEM       195034   True"
      ]
     },
     "execution_count": 2,
     "metadata": {},
     "output_type": "execute_result"
    }
   ],
   "source": [
    "df.head()"
   ]
  },
  {
   "cell_type": "code",
   "execution_count": 3,
   "metadata": {},
   "outputs": [
    {
     "name": "stdout",
     "output_type": "stream",
     "text": [
      "(31902, 6)\n"
     ]
    },
    {
     "data": {
      "text/plain": [
       "state          0\n",
       "county         0\n",
       "candidate      0\n",
       "party          0\n",
       "total_votes    0\n",
       "won            0\n",
       "dtype: int64"
      ]
     },
     "execution_count": 3,
     "metadata": {},
     "output_type": "execute_result"
    }
   ],
   "source": [
    "print(df.shape)\n",
    "df.isnull().sum()"
   ]
  },
  {
   "cell_type": "code",
   "execution_count": 4,
   "metadata": {},
   "outputs": [],
   "source": [
    "#Drop rows containing 0 for total_votes\n",
    "df.drop(inplace=True, index=df[df[\"total_votes\"] == 0].index)\n",
    "\n",
    "#Remove white space on candidate\n",
    "df[\"candidate\"] = df[\"candidate\"].str.strip()"
   ]
  },
  {
   "cell_type": "markdown",
   "metadata": {},
   "source": [
    "## Removing Low-share Candidates\n",
    "\n",
    "The first major step in the cleaning process is to clean up rows for candidates with very small vote totals. There are 38 distinct candidates in this dataset and 98% of the total vote is attributed to two candidates, Joe Biden and Donald Trump. Reassigning the 34 candidates with the lowest turnout to \"Other\" will make the data more mangageable for visualizations while leaving five possible candidate entries for some exploration."
   ]
  },
  {
   "cell_type": "code",
   "execution_count": 5,
   "metadata": {},
   "outputs": [],
   "source": [
    "#Create pivot table and then normalize values\n",
    "candidate_frequency = pd.pivot_table(df, values=\"total_votes\", index=\"candidate\", aggfunc=np.sum)/df[\"total_votes\"].sum() * 100\n",
    "\n",
    "#Move index to a Series for merging with original DF\n",
    "candidate_frequency.reset_index(inplace=True)\n",
    "\n",
    "#Rename values column to total_percentage\n",
    "candidate_frequency = candidate_frequency.rename(columns={\"total_votes\":\"total_percentage\"})\n",
    "\n",
    "#Sort pivot table to retrieve top 4 candidates\n",
    "candidate_frequency.sort_values(\"total_percentage\", ascending=False, inplace=True)\n",
    "\n",
    "#Define vote percentage of 4th candidate as minimum for conditional later\n",
    "minimum_percentage = candidate_frequency.iloc[3, 1]"
   ]
  },
  {
   "cell_type": "code",
   "execution_count": 6,
   "metadata": {},
   "outputs": [
    {
     "data": {
      "text/html": [
       "<div>\n",
       "<style scoped>\n",
       "    .dataframe tbody tr th:only-of-type {\n",
       "        vertical-align: middle;\n",
       "    }\n",
       "\n",
       "    .dataframe tbody tr th {\n",
       "        vertical-align: top;\n",
       "    }\n",
       "\n",
       "    .dataframe thead th {\n",
       "        text-align: right;\n",
       "    }\n",
       "</style>\n",
       "<table border=\"1\" class=\"dataframe\">\n",
       "  <thead>\n",
       "    <tr style=\"text-align: right;\">\n",
       "      <th></th>\n",
       "      <th>state</th>\n",
       "      <th>county</th>\n",
       "      <th>candidate</th>\n",
       "      <th>party</th>\n",
       "      <th>total_votes</th>\n",
       "      <th>won</th>\n",
       "      <th>total_percentage</th>\n",
       "    </tr>\n",
       "  </thead>\n",
       "  <tbody>\n",
       "    <tr>\n",
       "      <th>0</th>\n",
       "      <td>Delaware</td>\n",
       "      <td>Kent County</td>\n",
       "      <td>Joe Biden</td>\n",
       "      <td>DEM</td>\n",
       "      <td>44552</td>\n",
       "      <td>True</td>\n",
       "      <td>51.421263</td>\n",
       "    </tr>\n",
       "    <tr>\n",
       "      <th>1</th>\n",
       "      <td>Delaware</td>\n",
       "      <td>Kent County</td>\n",
       "      <td>Donald Trump</td>\n",
       "      <td>REP</td>\n",
       "      <td>41009</td>\n",
       "      <td>False</td>\n",
       "      <td>46.744242</td>\n",
       "    </tr>\n",
       "    <tr>\n",
       "      <th>2</th>\n",
       "      <td>Delaware</td>\n",
       "      <td>Kent County</td>\n",
       "      <td>Jo Jorgensen</td>\n",
       "      <td>LIB</td>\n",
       "      <td>1044</td>\n",
       "      <td>False</td>\n",
       "      <td>1.174577</td>\n",
       "    </tr>\n",
       "    <tr>\n",
       "      <th>3</th>\n",
       "      <td>Delaware</td>\n",
       "      <td>Kent County</td>\n",
       "      <td>Howie Hawkins</td>\n",
       "      <td>GRN</td>\n",
       "      <td>420</td>\n",
       "      <td>False</td>\n",
       "      <td>0.253736</td>\n",
       "    </tr>\n",
       "    <tr>\n",
       "      <th>4</th>\n",
       "      <td>Delaware</td>\n",
       "      <td>New Castle County</td>\n",
       "      <td>Joe Biden</td>\n",
       "      <td>DEM</td>\n",
       "      <td>195034</td>\n",
       "      <td>True</td>\n",
       "      <td>51.421263</td>\n",
       "    </tr>\n",
       "    <tr>\n",
       "      <th>...</th>\n",
       "      <td>...</td>\n",
       "      <td>...</td>\n",
       "      <td>...</td>\n",
       "      <td>...</td>\n",
       "      <td>...</td>\n",
       "      <td>...</td>\n",
       "      <td>...</td>\n",
       "    </tr>\n",
       "    <tr>\n",
       "      <th>27130</th>\n",
       "      <td>Arizona</td>\n",
       "      <td>Maricopa County</td>\n",
       "      <td>Write-ins</td>\n",
       "      <td>WRI</td>\n",
       "      <td>1331</td>\n",
       "      <td>False</td>\n",
       "      <td>0.128670</td>\n",
       "    </tr>\n",
       "    <tr>\n",
       "      <th>27131</th>\n",
       "      <td>Arizona</td>\n",
       "      <td>Mohave County</td>\n",
       "      <td>Donald Trump</td>\n",
       "      <td>REP</td>\n",
       "      <td>78535</td>\n",
       "      <td>True</td>\n",
       "      <td>46.744242</td>\n",
       "    </tr>\n",
       "    <tr>\n",
       "      <th>27132</th>\n",
       "      <td>Arizona</td>\n",
       "      <td>Mohave County</td>\n",
       "      <td>Joe Biden</td>\n",
       "      <td>DEM</td>\n",
       "      <td>24831</td>\n",
       "      <td>False</td>\n",
       "      <td>51.421263</td>\n",
       "    </tr>\n",
       "    <tr>\n",
       "      <th>27133</th>\n",
       "      <td>Arizona</td>\n",
       "      <td>Mohave County</td>\n",
       "      <td>Jo Jorgensen</td>\n",
       "      <td>LIB</td>\n",
       "      <td>1302</td>\n",
       "      <td>False</td>\n",
       "      <td>1.174577</td>\n",
       "    </tr>\n",
       "    <tr>\n",
       "      <th>27134</th>\n",
       "      <td>Arizona</td>\n",
       "      <td>Mohave County</td>\n",
       "      <td>Write-ins</td>\n",
       "      <td>WRI</td>\n",
       "      <td>37</td>\n",
       "      <td>False</td>\n",
       "      <td>0.128670</td>\n",
       "    </tr>\n",
       "  </tbody>\n",
       "</table>\n",
       "<p>27135 rows × 7 columns</p>\n",
       "</div>"
      ],
      "text/plain": [
       "          state             county      candidate party  total_votes    won  \\\n",
       "0      Delaware        Kent County      Joe Biden   DEM        44552   True   \n",
       "1      Delaware        Kent County   Donald Trump   REP        41009  False   \n",
       "2      Delaware        Kent County   Jo Jorgensen   LIB         1044  False   \n",
       "3      Delaware        Kent County  Howie Hawkins   GRN          420  False   \n",
       "4      Delaware  New Castle County      Joe Biden   DEM       195034   True   \n",
       "...         ...                ...            ...   ...          ...    ...   \n",
       "27130   Arizona    Maricopa County      Write-ins   WRI         1331  False   \n",
       "27131   Arizona      Mohave County   Donald Trump   REP        78535   True   \n",
       "27132   Arizona      Mohave County      Joe Biden   DEM        24831  False   \n",
       "27133   Arizona      Mohave County   Jo Jorgensen   LIB         1302  False   \n",
       "27134   Arizona      Mohave County      Write-ins   WRI           37  False   \n",
       "\n",
       "       total_percentage  \n",
       "0             51.421263  \n",
       "1             46.744242  \n",
       "2              1.174577  \n",
       "3              0.253736  \n",
       "4             51.421263  \n",
       "...                 ...  \n",
       "27130          0.128670  \n",
       "27131         46.744242  \n",
       "27132         51.421263  \n",
       "27133          1.174577  \n",
       "27134          0.128670  \n",
       "\n",
       "[27135 rows x 7 columns]"
      ]
     },
     "execution_count": 6,
     "metadata": {},
     "output_type": "execute_result"
    }
   ],
   "source": [
    "#Merge total_percentage into the main DataFrame for use later\n",
    "df_merged = df.merge(candidate_frequency, how=\"left\", on=\"candidate\")\n",
    "\n",
    "df_merged"
   ]
  },
  {
   "cell_type": "code",
   "execution_count": 7,
   "metadata": {},
   "outputs": [],
   "source": [
    "#Create list for iterating over candidates with low vote percentage\n",
    "index = df_merged[df_merged[\"total_percentage\"] < minimum_percentage].index.tolist()\n",
    "\n",
    "#Iterate over merged DataFrame to replace candidate names and parties\n",
    "for i in index:\n",
    "    df_merged.iloc[i, 2] = \"Other\"\n",
    "    df_merged.iloc[i, 3] = \"N/A\""
   ]
  },
  {
   "cell_type": "code",
   "execution_count": 8,
   "metadata": {},
   "outputs": [
    {
     "name": "stdout",
     "output_type": "stream",
     "text": [
      "Other            10461\n",
      "Joe Biden         4630\n",
      "Donald Trump      4629\n",
      "Jo Jorgensen      4565\n",
      "Howie Hawkins     2850\n",
      "Name: candidate, dtype: int64\n"
     ]
    }
   ],
   "source": [
    "print(df_merged[\"candidate\"].value_counts())"
   ]
  },
  {
   "cell_type": "code",
   "execution_count": 9,
   "metadata": {},
   "outputs": [],
   "source": [
    "#Remove percentage column\n",
    "df_merged.drop(columns=\"total_percentage\", inplace=True)"
   ]
  },
  {
   "cell_type": "markdown",
   "metadata": {},
   "source": [
    "## Aggregating the Data\n",
    "\n",
    "Now that the candidates have been reassigned, the data will need to be aggregated to combine all of the rows with the candidate of \"Other\"."
   ]
  },
  {
   "cell_type": "code",
   "execution_count": 10,
   "metadata": {},
   "outputs": [],
   "source": [
    "#Create DataFrame for rows with \"Other\" candidate\n",
    "other_df = df_merged[df_merged[\"candidate\"] == \"Other\"]\n",
    "\n",
    "#Determine total rows of \"Other\"\n",
    "other_total = other_df[\"county\"].count()\n",
    "\n",
    "#Determine unique counties with \"Other\"\n",
    "other_remain = other_df[[\"county\", \"state\"]].drop_duplicates()[\"county\"].count()\n",
    "\n",
    "#Calculate what the resulting number of rows sould be after aggregating data\n",
    "row_target = df_merged[\"county\"].count() - (other_total - other_remain)"
   ]
  },
  {
   "cell_type": "code",
   "execution_count": 11,
   "metadata": {},
   "outputs": [],
   "source": [
    "#Aggregate DataFrame to consolidate \"Other\" rows\n",
    "df_grouped = df_merged.groupby([\"state\", \"county\", \"candidate\"]).aggregate({\"party\":\"first\",\n",
    "                                                                            \"total_votes\":\"sum\",\n",
    "                                                                            \"won\":\"first\"\n",
    "                                                                            }\n",
    "                                                                           )\n",
    "\n",
    "df_grouped.reset_index(inplace=True)"
   ]
  },
  {
   "cell_type": "code",
   "execution_count": 12,
   "metadata": {},
   "outputs": [
    {
     "name": "stdout",
     "output_type": "stream",
     "text": [
      "DataFrame aggregated successfully. 20,014 rows in resulting DataFrame.\n"
     ]
    }
   ],
   "source": [
    "#Check if row count matches target\n",
    "row_count = df_grouped[\"county\"].count()\n",
    "\n",
    "if row_count == row_target:\n",
    "    print(\"DataFrame aggregated successfully. {:,} rows in resulting DataFrame.\".format(row_count))\n",
    "else:\n",
    "    print(\"DataFrame not aggregated successfully. {:,} expected rows vs. {:,} output rows\".format(row_target, row_count))"
   ]
  },
  {
   "cell_type": "code",
   "execution_count": 13,
   "metadata": {},
   "outputs": [],
   "source": [
    "#Aggregate data to determine total votes per county\n",
    "df_county_totals = df_grouped.groupby([\"state\", \"county\"]).agg({\"total_votes\":\"sum\"})\n",
    "\n",
    "#Merge newly aggregated data with original dataset\n",
    "df_grouped = pd.merge(df_grouped, df_county_totals, how=\"left\", on=[\"state\", \"county\"])"
   ]
  },
  {
   "cell_type": "code",
   "execution_count": 14,
   "metadata": {},
   "outputs": [
    {
     "data": {
      "text/html": [
       "<div>\n",
       "<style scoped>\n",
       "    .dataframe tbody tr th:only-of-type {\n",
       "        vertical-align: middle;\n",
       "    }\n",
       "\n",
       "    .dataframe tbody tr th {\n",
       "        vertical-align: top;\n",
       "    }\n",
       "\n",
       "    .dataframe thead th {\n",
       "        text-align: right;\n",
       "    }\n",
       "</style>\n",
       "<table border=\"1\" class=\"dataframe\">\n",
       "  <thead>\n",
       "    <tr style=\"text-align: right;\">\n",
       "      <th></th>\n",
       "      <th>state</th>\n",
       "      <th>county</th>\n",
       "      <th>candidate</th>\n",
       "      <th>party</th>\n",
       "      <th>total_votes_x</th>\n",
       "      <th>won</th>\n",
       "      <th>total_votes_y</th>\n",
       "    </tr>\n",
       "  </thead>\n",
       "  <tbody>\n",
       "    <tr>\n",
       "      <th>0</th>\n",
       "      <td>Alabama</td>\n",
       "      <td>Autauga County</td>\n",
       "      <td>Donald Trump</td>\n",
       "      <td>REP</td>\n",
       "      <td>19838</td>\n",
       "      <td>True</td>\n",
       "      <td>27770</td>\n",
       "    </tr>\n",
       "    <tr>\n",
       "      <th>1</th>\n",
       "      <td>Alabama</td>\n",
       "      <td>Autauga County</td>\n",
       "      <td>Jo Jorgensen</td>\n",
       "      <td>LIB</td>\n",
       "      <td>350</td>\n",
       "      <td>False</td>\n",
       "      <td>27770</td>\n",
       "    </tr>\n",
       "    <tr>\n",
       "      <th>2</th>\n",
       "      <td>Alabama</td>\n",
       "      <td>Autauga County</td>\n",
       "      <td>Joe Biden</td>\n",
       "      <td>DEM</td>\n",
       "      <td>7503</td>\n",
       "      <td>False</td>\n",
       "      <td>27770</td>\n",
       "    </tr>\n",
       "    <tr>\n",
       "      <th>3</th>\n",
       "      <td>Alabama</td>\n",
       "      <td>Autauga County</td>\n",
       "      <td>Other</td>\n",
       "      <td>N/A</td>\n",
       "      <td>79</td>\n",
       "      <td>False</td>\n",
       "      <td>27770</td>\n",
       "    </tr>\n",
       "    <tr>\n",
       "      <th>4</th>\n",
       "      <td>Alabama</td>\n",
       "      <td>Baldwin County</td>\n",
       "      <td>Donald Trump</td>\n",
       "      <td>REP</td>\n",
       "      <td>83544</td>\n",
       "      <td>True</td>\n",
       "      <td>109679</td>\n",
       "    </tr>\n",
       "  </tbody>\n",
       "</table>\n",
       "</div>"
      ],
      "text/plain": [
       "     state          county     candidate party  total_votes_x    won  \\\n",
       "0  Alabama  Autauga County  Donald Trump   REP          19838   True   \n",
       "1  Alabama  Autauga County  Jo Jorgensen   LIB            350  False   \n",
       "2  Alabama  Autauga County     Joe Biden   DEM           7503  False   \n",
       "3  Alabama  Autauga County         Other   N/A             79  False   \n",
       "4  Alabama  Baldwin County  Donald Trump   REP          83544   True   \n",
       "\n",
       "   total_votes_y  \n",
       "0          27770  \n",
       "1          27770  \n",
       "2          27770  \n",
       "3          27770  \n",
       "4         109679  "
      ]
     },
     "execution_count": 14,
     "metadata": {},
     "output_type": "execute_result"
    }
   ],
   "source": [
    "df_grouped.head()"
   ]
  },
  {
   "cell_type": "code",
   "execution_count": 15,
   "metadata": {},
   "outputs": [],
   "source": [
    "#Use new column to determine percentage of vote received by each candidate\n",
    "df_grouped[\"percentage\"] = df_grouped[\"total_votes_x\"]/df_grouped[\"total_votes_y\"]\n",
    "\n",
    "#Rename original votes column\n",
    "df_grouped.rename(columns={\"total_votes_x\":\"total_votes\"}, inplace=True)\n",
    "\n",
    "#Drop unnecessary votes column\n",
    "df_grouped.drop([\"total_votes_y\"], axis=1, inplace=True)"
   ]
  },
  {
   "cell_type": "code",
   "execution_count": 16,
   "metadata": {},
   "outputs": [
    {
     "data": {
      "text/html": [
       "<div>\n",
       "<style scoped>\n",
       "    .dataframe tbody tr th:only-of-type {\n",
       "        vertical-align: middle;\n",
       "    }\n",
       "\n",
       "    .dataframe tbody tr th {\n",
       "        vertical-align: top;\n",
       "    }\n",
       "\n",
       "    .dataframe thead th {\n",
       "        text-align: right;\n",
       "    }\n",
       "</style>\n",
       "<table border=\"1\" class=\"dataframe\">\n",
       "  <thead>\n",
       "    <tr style=\"text-align: right;\">\n",
       "      <th></th>\n",
       "      <th>state</th>\n",
       "      <th>county</th>\n",
       "      <th>candidate</th>\n",
       "      <th>party</th>\n",
       "      <th>total_votes</th>\n",
       "      <th>won</th>\n",
       "      <th>percentage</th>\n",
       "    </tr>\n",
       "  </thead>\n",
       "  <tbody>\n",
       "    <tr>\n",
       "      <th>0</th>\n",
       "      <td>Alabama</td>\n",
       "      <td>Autauga County</td>\n",
       "      <td>Donald Trump</td>\n",
       "      <td>REP</td>\n",
       "      <td>19838</td>\n",
       "      <td>True</td>\n",
       "      <td>0.714368</td>\n",
       "    </tr>\n",
       "    <tr>\n",
       "      <th>1</th>\n",
       "      <td>Alabama</td>\n",
       "      <td>Autauga County</td>\n",
       "      <td>Jo Jorgensen</td>\n",
       "      <td>LIB</td>\n",
       "      <td>350</td>\n",
       "      <td>False</td>\n",
       "      <td>0.012604</td>\n",
       "    </tr>\n",
       "    <tr>\n",
       "      <th>2</th>\n",
       "      <td>Alabama</td>\n",
       "      <td>Autauga County</td>\n",
       "      <td>Joe Biden</td>\n",
       "      <td>DEM</td>\n",
       "      <td>7503</td>\n",
       "      <td>False</td>\n",
       "      <td>0.270184</td>\n",
       "    </tr>\n",
       "    <tr>\n",
       "      <th>3</th>\n",
       "      <td>Alabama</td>\n",
       "      <td>Autauga County</td>\n",
       "      <td>Other</td>\n",
       "      <td>N/A</td>\n",
       "      <td>79</td>\n",
       "      <td>False</td>\n",
       "      <td>0.002845</td>\n",
       "    </tr>\n",
       "    <tr>\n",
       "      <th>4</th>\n",
       "      <td>Alabama</td>\n",
       "      <td>Baldwin County</td>\n",
       "      <td>Donald Trump</td>\n",
       "      <td>REP</td>\n",
       "      <td>83544</td>\n",
       "      <td>True</td>\n",
       "      <td>0.761714</td>\n",
       "    </tr>\n",
       "  </tbody>\n",
       "</table>\n",
       "</div>"
      ],
      "text/plain": [
       "     state          county     candidate party  total_votes    won  percentage\n",
       "0  Alabama  Autauga County  Donald Trump   REP        19838   True    0.714368\n",
       "1  Alabama  Autauga County  Jo Jorgensen   LIB          350  False    0.012604\n",
       "2  Alabama  Autauga County     Joe Biden   DEM         7503  False    0.270184\n",
       "3  Alabama  Autauga County         Other   N/A           79  False    0.002845\n",
       "4  Alabama  Baldwin County  Donald Trump   REP        83544   True    0.761714"
      ]
     },
     "execution_count": 16,
     "metadata": {},
     "output_type": "execute_result"
    }
   ],
   "source": [
    "df_grouped.head()"
   ]
  },
  {
   "cell_type": "markdown",
   "metadata": {},
   "source": [
    "## State-level Aggregation\n",
    "\n",
    "With the county-level data cleaned, I can continue to clean the data down to the state-level. I will create two new DataFrames for this view, one containing total turnout for each state and the other containing only the winner and vote turnout."
   ]
  },
  {
   "cell_type": "code",
   "execution_count": 17,
   "metadata": {},
   "outputs": [],
   "source": [
    "#Aggregate DataFrame to create table for state results\n",
    "df_state = df_grouped.groupby([\"state\", \"candidate\"]).agg({\"party\":\"first\",\n",
    "                                                         \"total_votes\" : \"sum\",\n",
    "                                                         }\n",
    "                                                        )\n",
    "#Reset index for consistent formatting\n",
    "df_state.reset_index(inplace=True)"
   ]
  },
  {
   "cell_type": "code",
   "execution_count": 18,
   "metadata": {},
   "outputs": [
    {
     "name": "stdout",
     "output_type": "stream",
     "text": [
      "Aggregation successful. Output contains 51 state results.\n"
     ]
    }
   ],
   "source": [
    "df_state_winner = df_state.copy()\n",
    "\n",
    "#Create new duplicate column of total_votes\n",
    "df_state_winner[\"total_votes_sum\"] = df_state_winner[\"total_votes\"].copy()\n",
    "\n",
    "#Aggregate df_state to the winning vote count of each state\n",
    "df_state_winner = df_state_winner.groupby([\"state\"]).agg({\"total_votes\":\"max\", \"total_votes_sum\":\"sum\"})\n",
    "\n",
    "#Clean index\n",
    "df_state_winner.reset_index(inplace=True)\n",
    "\n",
    "#Merge new DataFrame with df_state to include winner's name\n",
    "df_state_winner = pd.merge(df_state_winner, df_state[[\"state\", \"total_votes\", \"candidate\"]], how=\"left\", on=[\"state\", \"total_votes\"] )\n",
    "\n",
    "if df_state_winner.shape[0] == 51:\n",
    "    print(\"Aggregation successful. Output contains {} state results.\".format(df_state_winner.shape[0]))"
   ]
  },
  {
   "cell_type": "code",
   "execution_count": 19,
   "metadata": {},
   "outputs": [],
   "source": [
    "#Rename columns of df_state_winner\n",
    "df_state_winner.columns = [\"state\", \"winner_votes\", \"total_votes\", \"winner\"]\n",
    "\n",
    "#Add vote percentage of winner to the DataFrame\n",
    "df_state_winner[\"percentage\"] = df_state_winner[\"winner_votes\"]/df_state_winner[\"total_votes\"]"
   ]
  },
  {
   "cell_type": "markdown",
   "metadata": {},
   "source": [
    "### Electoral Votes\n",
    "\n",
    "Another useful piece of information for this data is the number of electoral college votes each state has. The CSV file used can be found [here](https://worldpopulationreview.com/state-rankings/electoral-votes-by-state)."
   ]
  },
  {
   "cell_type": "code",
   "execution_count": 20,
   "metadata": {},
   "outputs": [],
   "source": [
    "#Read in CSV file containing the electoral votes for eaech state\n",
    "df_college = pd.read_csv(\"electoral_college.csv\")\n",
    "\n",
    "#Rename columns for easier merging\n",
    "df_college.columns = [\"state\", \"ec_votes\", \"people_per_vote\", \"population\"]\n",
    "\n",
    "#Add electoral college votes to the df_state_winner DataFrame\n",
    "df_state_winner = pd.merge(df_state_winner, df_college[[\"state\", \"ec_votes\"]], how=\"left\", on=\"state\")"
   ]
  },
  {
   "cell_type": "code",
   "execution_count": 21,
   "metadata": {},
   "outputs": [],
   "source": [
    "#The file with the electoral college was missing WAshington D.C., so that will need added in\n",
    "index_key = df_state_winner.index[df_state_winner[\"state\"] == \"District of Columbia\"].tolist()\n",
    "\n",
    "#D.C. has 3 votes, and it will be easiest just to enter this manually\n",
    "df_state_winner.loc[index_key, \"ec_votes\"] = 3"
   ]
  },
  {
   "cell_type": "markdown",
   "metadata": {},
   "source": [
    "## Exporting Data\n",
    "\n",
    "Finally, I will export the datasets to CSV files for use in Tableau"
   ]
  },
  {
   "cell_type": "code",
   "execution_count": 22,
   "metadata": {},
   "outputs": [],
   "source": [
    "#Export DataFrames to new .csv files for use in Tableau\n",
    "df_grouped.to_csv(\"clean_data/president_county_candidate_clean.csv\", index=False)\n",
    "\n",
    "df_state.to_csv(\"clean_data/president_state_clean.csv\", index=False)\n",
    "\n",
    "df_state_winner.to_csv(\"clean_data/president_state_winner_clean.csv\", index=False)"
   ]
  }
 ],
 "metadata": {
  "kernelspec": {
   "display_name": "Python 3",
   "language": "python",
   "name": "python3"
  },
  "language_info": {
   "codemirror_mode": {
    "name": "ipython",
    "version": 3
   },
   "file_extension": ".py",
   "mimetype": "text/x-python",
   "name": "python",
   "nbconvert_exporter": "python",
   "pygments_lexer": "ipython3",
   "version": "3.7.6"
  }
 },
 "nbformat": 4,
 "nbformat_minor": 4
}
